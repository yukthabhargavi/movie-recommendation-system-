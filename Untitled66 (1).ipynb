{
 "cells": [
  {
   "cell_type": "code",
   "execution_count": 1,
   "id": "e1337e88-36b9-4112-b374-04a6d55af7a3",
   "metadata": {},
   "outputs": [],
   "source": [
    "import pandas as pd\n",
    "import numpy as np\n",
    "from sklearn.preprocessing import LabelEncoder, StandardScaler\n",
    "from sklearn.neighbors import NearestNeighbors\n",
    "from scipy.sparse.linalg import svds\n",
    "from sklearn.metrics.pairwise import cosine_similarity"
   ]
  },
  {
   "cell_type": "code",
   "execution_count": 2,
   "id": "6fbe8043-0627-4890-bd99-5c8d2f8c1d9d",
   "metadata": {},
   "outputs": [],
   "source": [
    "# Load and preprocess data\n",
    "def load_and_preprocess_data(file_path):\n",
    "    \"\"\"Loads the dataset and applies preprocessing.\"\"\"\n",
    "    df = pd.read_csv(file_path)\n",
    "\n",
    "    # Encode genres\n",
    "    label_encoder = LabelEncoder()\n",
    "    df[\"Genre_Encoded\"] = label_encoder.fit_transform(df[\"Genre\"])\n",
    "\n",
    "    # Scale numerical features\n",
    "    scaler = StandardScaler()\n",
    "    df[[\"Year_Scaled\", \"Rating_Scaled\"]] = scaler.fit_transform(df[[\"Year\", \"Movie_Rating\"]])\n",
    "\n",
    "    return df, label_encoder, scaler"
   ]
  },
  {
   "cell_type": "code",
   "execution_count": 3,
   "id": "3f258556-fded-4b06-8e36-306741100854",
   "metadata": {},
   "outputs": [],
   "source": [
    "# KNN recommendation function\n",
    "def recommend_movies_knn(df, genre, year, rating, label_encoder, scaler):\n",
    "    \"\"\"\n",
    "    Recommends movies based on genre, year, and rating using KNN.\n",
    "    \"\"\"\n",
    "\n",
    "    # Step 1: Filter movies by the requested year\n",
    "    df_filtered = df[df[\"Year\"] == year].copy()\n",
    "    if df_filtered.empty:\n",
    "        return \"No movies found for the specified year.\"\n",
    "\n",
    "    # Step 2: Filter movies by genre (include multi-genre matches)\n",
    "    df_filtered = df_filtered[df_filtered[\"Genre\"].str.contains(genre, case=False, na=False)]\n",
    "    if df_filtered.empty:\n",
    "        return \"No movies found for the specified genre in this year.\"\n",
    "\n",
    "    # Step 3: Encode genre input using the same encoder from preprocessing\n",
    "    genre_encoded = label_encoder.transform([genre])[0]  # Encode input genre\n",
    "\n",
    "    # Step 4: Scale numerical features using the **existing** scaler\n",
    "    scaler.fit(df[[\"Year\", \"Movie_Rating\"]])  # Ensure the scaler is trained on original dataset\n",
    "    df_filtered[[\"Year_Scaled\", \"Rating_Scaled\"]] = scaler.transform(df_filtered[[\"Year\", \"Movie_Rating\"]])\n",
    "\n",
    "    # Step 5: Train KNN only on the filtered dataset (avoids index mismatch)\n",
    "    knn_model = NearestNeighbors(n_neighbors=min(5, len(df_filtered)), metric=\"euclidean\")\n",
    "    features_filtered = df_filtered[[\"Year_Scaled\", \"Rating_Scaled\"]]\n",
    "    knn_model.fit(features_filtered.to_numpy())\n",
    "\n",
    "    # Step 6: Prepare input feature vector (scale properly)\n",
    "    input_features = np.array([[year, rating]])  # Ensure input is a 2D array\n",
    "    input_features_scaled = scaler.transform(input_features)  # Apply proper scaling\n",
    "\n",
    "    # Step 7: Use KNN to find similar movies\n",
    "    distances, indices = knn_model.kneighbors(input_features_scaled)\n",
    "\n",
    "    # Retrieve recommended movies based on indices\n",
    "    recommended_movies = df_filtered.iloc[indices[0]][[\"Title\", \"Year\", \"Genre\", \"Movie_Rating\"]]\n",
    "\n",
    "    return recommended_movies"
   ]
  },
  {
   "cell_type": "code",
   "execution_count": 12,
   "id": "11cda521-46e0-43a7-a824-0601367a4fc2",
   "metadata": {},
   "outputs": [],
   "source": [
    "import pandas as pd\n",
    "import numpy as np\n",
    "from sklearn.metrics.pairwise import cosine_similarity\n",
    "from scipy.sparse.linalg import svds\n",
    "\n",
    "def recommend_movies_svd(df, movie_title, n_recommendations=5):\n",
    "    \"\"\"\n",
    "    Finds movies similar to the given movie title using Singular Value Decomposition (SVD).\n",
    "    Returns Title, Year, Genre, and Movie Rating.\n",
    "    \"\"\"\n",
    "\n",
    "    # Create a movie-rating matrix (Movies × Genres)\n",
    "    rating_matrix = df.pivot_table(index=\"Title\", columns=\"Genre\", values=\"Movie_Rating\", aggfunc=\"mean\").fillna(0)\n",
    "\n",
    "    if movie_title not in rating_matrix.index:\n",
    "        return f\"Movie title '{movie_title}' not found in dataset.\"\n",
    "\n",
    "    # Convert to numpy array for SVD\n",
    "    matrix = rating_matrix.to_numpy(dtype=np.float64)  # Ensure matrix is float\n",
    "\n",
    "    # Ensure valid k-value\n",
    "    num_movies, num_features = matrix.shape\n",
    "    if num_movies < 2 or num_features < 2:\n",
    "        return \"Not enough data to perform SVD-based recommendations.\"\n",
    "\n",
    "    k_value = min(10, num_movies - 1, num_features - 1)  # Adjust k dynamically\n",
    "\n",
    "    # Perform Singular Value Decomposition\n",
    "    U, sigma, Vt = svds(matrix, k=k_value)  \n",
    "    sigma = np.diag(sigma)\n",
    "\n",
    "    # Compute item similarity using cosine similarity\n",
    "    movie_factors = np.dot(U, sigma)  \n",
    "    similarity_matrix = cosine_similarity(movie_factors)\n",
    "\n",
    "    # Convert to DataFrame\n",
    "    similarity_df = pd.DataFrame(similarity_matrix, index=rating_matrix.index, columns=rating_matrix.index)\n",
    "\n",
    "    # Get top N most similar movies (excluding itself)\n",
    "    similar_movies = similarity_df[movie_title].sort_values(ascending=False).iloc[1:n_recommendations + 1]\n",
    "\n",
    "    # Retrieve movie details (Title, Year, Genre, Rating)\n",
    "    recommended_movies = df[df[\"Title\"].isin(similar_movies.index)][[\"Title\", \"Year\", \"Genre\", \"Movie_Rating\"]]\n",
    "\n",
    "    return recommended_movies\n"
   ]
  },
  {
   "cell_type": "code",
   "execution_count": 14,
   "id": "b1ec2870-f30f-453c-96f4-b2d2188432b3",
   "metadata": {},
   "outputs": [
    {
     "name": "stdin",
     "output_type": "stream",
     "text": [
      "Do you want recommendations based on a movie title or movie features? (Enter 'title' or 'features'):  features\n",
      "Enter the genre:  Comedy\n",
      "Enter the year:  2009\n",
      "Enter the rating (1-5):  5\n"
     ]
    },
    {
     "name": "stdout",
     "output_type": "stream",
     "text": [
      "\n",
      "Recommended Movies (KNN - Based on Features):\n",
      "                Title  Year                    Genre  Movie_Rating\n",
      "704  Sanam Teri Kasam  2009          Comedy, Romance             5\n",
      "712          Shortkut  2009                   Comedy             5\n",
      "710    Kambakkht Ishq  2009  Action, comedy, romance             5\n",
      "688      Aloo Chaat\\n  2009          Romantic Comedy             5\n",
      "708     Paying Guests  2009                   Comedy             5\n"
     ]
    },
    {
     "name": "stderr",
     "output_type": "stream",
     "text": [
      "C:\\Users\\yukth\\anaconda3\\Lib\\site-packages\\sklearn\\base.py:493: UserWarning: X does not have valid feature names, but StandardScaler was fitted with feature names\n",
      "  warnings.warn(\n"
     ]
    }
   ],
   "source": [
    "# Load the dataset\n",
    "file_path = r\"C:\\Users\\yukth\\Downloads\\Dataset_with_Movie_Ratings.csv\"\n",
    "df, label_encoder, scaler = load_and_preprocess_data(file_path)\n",
    "\n",
    "# Ask the user for recommendations based on title or features\n",
    "recommendation_type = input(\"Do you want recommendations based on a movie title or movie features? (Enter 'title' or 'features'): \").strip().lower()\n",
    "\n",
    "if recommendation_type == \"title\":\n",
    "    # Get user input for SVD recommendations\n",
    "    movie_title_input = input(\"Enter a movie title for SVD-based recommendations: \").strip()\n",
    "\n",
    "    # Get SVD recommendations\n",
    "    svd_recommendations = recommend_movies_svd(df, movie_title_input)\n",
    "\n",
    "    # Display results\n",
    "    print(\"\\nRecommended Movies (SVD - Based on Movie Title):\")\n",
    "    print(svd_recommendations)\n",
    "\n",
    "elif recommendation_type == \"features\":\n",
    "    # Get user input for KNN recommendations\n",
    "    genre_input = input(\"Enter the genre: \").strip()\n",
    "    year_input = int(input(\"Enter the year: \"))\n",
    "    rating_input = float(input(\"Enter the rating (1-5): \"))\n",
    "\n",
    "    # Get KNN recommendations\n",
    "    knn_recommendations = recommend_movies_knn(df, genre=genre_input, year=year_input, rating=rating_input, \n",
    "                                               label_encoder=label_encoder, scaler=scaler)\n",
    "\n",
    "    # Display results\n",
    "    print(\"\\nRecommended Movies (KNN - Based on Features):\")\n",
    "    print(knn_recommendations)\n",
    "\n",
    "else:\n",
    "    print(\"Invalid input. Please enter 'title' or 'features'.\")"
   ]
  },
  {
   "cell_type": "code",
   "execution_count": null,
   "id": "940e9878-545b-49c5-ac32-f331f4e816cc",
   "metadata": {},
   "outputs": [],
   "source": []
  }
 ],
 "metadata": {
  "kernelspec": {
   "display_name": "Python 3 (ipykernel)",
   "language": "python",
   "name": "python3"
  },
  "language_info": {
   "codemirror_mode": {
    "name": "ipython",
    "version": 3
   },
   "file_extension": ".py",
   "mimetype": "text/x-python",
   "name": "python",
   "nbconvert_exporter": "python",
   "pygments_lexer": "ipython3",
   "version": "3.12.7"
  }
 },
 "nbformat": 4,
 "nbformat_minor": 5
}
